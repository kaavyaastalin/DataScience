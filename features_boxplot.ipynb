{
 "cells": [
  {
   "cell_type": "markdown",
   "source": [
    "First we get the dataset in order by computing the ANOVA results and taking some of the best and worst features:"
   ],
   "metadata": {
    "collapsed": false,
    "pycharm": {
     "name": "#%% md\n"
    }
   }
  },
  {
   "cell_type": "code",
   "execution_count": 1,
   "outputs": [
    {
     "name": "stdout",
     "text": [
      "[133, 10, 132]\n[109, 72, 15]\n"
     ],
     "output_type": "stream"
    }
   ],
   "source": [
    "import pandas as pd\n",
    "import scipy.stats as stats\n",
    "from ass4.anova import compute_anovas\n",
    "import matplotlib.pyplot as plt\n",
    "\n",
    "df = pd.read_csv('../data/labeled_data.csv', index_col=False, header=None)\n",
    "anova_results = compute_anovas()\n",
    "\n",
    "features_good = [result[0] for result in anova_results[:3]]\n",
    "features_bad = [result[0] for result in anova_results[-3:]]\n",
    "cols = df.columns\n",
    "\n",
    "print(features_good)\n",
    "print(features_bad)\n",
    "\n",
    "# Generate two groups for all selected features\n",
    "df_good_1 = df[features_good][df[cols[-1]] == 1]\n",
    "df_good_2 = df[features_good][df[cols[-1]] == 2]\n",
    "df_bad_1 = df[features_bad][df[cols[-1]] == 1]\n",
    "df_bad_2 = df[features_bad][df[cols[-1]] == 2]"
   ],
   "metadata": {
    "collapsed": false,
    "pycharm": {
     "name": "#%%\n",
     "is_executing": false
    }
   }
  },
  {
   "cell_type": "markdown",
   "source": [
    "Next, we plot the features:"
   ],
   "metadata": {
    "collapsed": false,
    "pycharm": {
     "name": "#%% md\n"
    }
   }
  },
  {
   "cell_type": "code",
   "execution_count": 2,
   "outputs": [
    {
     "data": {
      "text/plain": "<Figure size 432x288 with 6 Axes>",
      "image/png": "[encoded data removed]"
     },
     "metadata": {
      "needs_background": "light"
     },
     "output_type": "display_data"
    }
   ],
   "source": [
    "fig, axs = plt.subplots(2, 3)\n",
    "# Good features\n",
    "for i in range(len(features_good)):\n",
    "    feature = features_good[i]\n",
    "    axs[0, i].boxplot([df_good_1[feature], df_good_2[feature]])\n",
    "    axs[0, i].set_title('Feature ' + str(feature))\n",
    "    axs[0, i].set_xticklabels([\"Healthy\", \"AML\"])\n",
    "    \n",
    "# Bad features\n",
    "for i in range(len(features_bad)):\n",
    "    feature = features_bad[i]\n",
    "    axs[1, i].boxplot([df_bad_1[feature], df_bad_2[feature]])\n",
    "    axs[1, i].set_title('Feature ' + str(feature))\n",
    "    axs[1, i].set_xticklabels([\"Healthy\", \"AML\"])\n",
    "\n",
    "fig.subplots_adjust(left=0.08, right=0.98, bottom=0.05, top=0.9, hspace=0.4, wspace=0.3)\n",
    "plt.savefig('../images/feature_boxplots.png')"
   ],
   "metadata": {
    "collapsed": false,
    "pycharm": {
     "name": "#%%\n",
     "is_executing": false
    }
   }
  },
  {
   "cell_type": "markdown",
   "source": [
    "As can be seen in the above figure, the top row (containing the better features) show a larger difference between the \n",
    "groups than the worse features of the lower row. "
   ],
   "metadata": {
    "collapsed": false,
    "pycharm": {
     "name": "#%% md\n"
    }
   }
  }
 ],
 "metadata": {
  "kernelspec": {
   "name": "python3",
   "language": "python",
   "display_name": "Python 3"
  },
  "language_info": {
   "codemirror_mode": {
    "name": "ipython",
    "version": 2
   },
   "file_extension": ".py",
   "mimetype": "text/x-python",
   "name": "python",
   "nbconvert_exporter": "python",
   "pygments_lexer": "ipython2",
   "version": "2.7.6"
  },
  "pycharm": {
   "stem_cell": {
    "cell_type": "raw",
    "source": [],
    "metadata": {
     "collapsed": false
    }
   }
  }
 },
 "nbformat": 4,
 "nbformat_minor": 0
}